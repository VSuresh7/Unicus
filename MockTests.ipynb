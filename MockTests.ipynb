{
 "cells": [
  {
   "cell_type": "code",
   "execution_count": 155,
   "id": "42e0188d",
   "metadata": {},
   "outputs": [],
   "source": [
    "import pandas as pd\n",
    "import numpy as np\n",
    "import matplotlib.pyplot as plt\n"
   ]
  },
  {
   "cell_type": "markdown",
   "id": "06819b60",
   "metadata": {},
   "source": [
    "### Task-1"
   ]
  },
  {
   "cell_type": "code",
   "execution_count": 3,
   "id": "d439e3e3",
   "metadata": {},
   "outputs": [
    {
     "data": {
      "text/html": [
       "<div>\n",
       "<style scoped>\n",
       "    .dataframe tbody tr th:only-of-type {\n",
       "        vertical-align: middle;\n",
       "    }\n",
       "\n",
       "    .dataframe tbody tr th {\n",
       "        vertical-align: top;\n",
       "    }\n",
       "\n",
       "    .dataframe thead th {\n",
       "        text-align: right;\n",
       "    }\n",
       "</style>\n",
       "<table border=\"1\" class=\"dataframe\">\n",
       "  <thead>\n",
       "    <tr style=\"text-align: right;\">\n",
       "      <th></th>\n",
       "      <th>Product_ID</th>\n",
       "      <th>Machine_ID</th>\n",
       "      <th>Operator_ID</th>\n",
       "      <th>Shift</th>\n",
       "      <th>Temperature</th>\n",
       "      <th>Pressure</th>\n",
       "      <th>Production_Time</th>\n",
       "      <th>Defects</th>\n",
       "      <th>Material_Thickness</th>\n",
       "      <th>Energy_Consumption</th>\n",
       "      <th>Output_Quality_Score</th>\n",
       "    </tr>\n",
       "  </thead>\n",
       "  <tbody>\n",
       "    <tr>\n",
       "      <th>0</th>\n",
       "      <td>1001</td>\n",
       "      <td>M4</td>\n",
       "      <td>232</td>\n",
       "      <td>Evening</td>\n",
       "      <td>58.846335</td>\n",
       "      <td>37.290126</td>\n",
       "      <td>21.249530</td>\n",
       "      <td>2</td>\n",
       "      <td>5.248237</td>\n",
       "      <td>200.949954</td>\n",
       "      <td>86.488866</td>\n",
       "    </tr>\n",
       "    <tr>\n",
       "      <th>1</th>\n",
       "      <td>1002</td>\n",
       "      <td>M5</td>\n",
       "      <td>236</td>\n",
       "      <td>Night</td>\n",
       "      <td>54.644692</td>\n",
       "      <td>22.519004</td>\n",
       "      <td>41.773006</td>\n",
       "      <td>0</td>\n",
       "      <td>6.449209</td>\n",
       "      <td>NaN</td>\n",
       "      <td>69.848851</td>\n",
       "    </tr>\n",
       "    <tr>\n",
       "      <th>2</th>\n",
       "      <td>1003</td>\n",
       "      <td>M3</td>\n",
       "      <td>204</td>\n",
       "      <td>Morning</td>\n",
       "      <td>NaN</td>\n",
       "      <td>NaN</td>\n",
       "      <td>44.853269</td>\n",
       "      <td>1</td>\n",
       "      <td>3.307488</td>\n",
       "      <td>230.920361</td>\n",
       "      <td>89.532740</td>\n",
       "    </tr>\n",
       "    <tr>\n",
       "      <th>3</th>\n",
       "      <td>1004</td>\n",
       "      <td>M5</td>\n",
       "      <td>227</td>\n",
       "      <td>Night</td>\n",
       "      <td>76.842479</td>\n",
       "      <td>30.620364</td>\n",
       "      <td>64.047932</td>\n",
       "      <td>0</td>\n",
       "      <td>6.908725</td>\n",
       "      <td>163.627304</td>\n",
       "      <td>80.018081</td>\n",
       "    </tr>\n",
       "    <tr>\n",
       "      <th>4</th>\n",
       "      <td>1005</td>\n",
       "      <td>M5</td>\n",
       "      <td>217</td>\n",
       "      <td>Evening</td>\n",
       "      <td>70.209489</td>\n",
       "      <td>23.627536</td>\n",
       "      <td>56.486806</td>\n",
       "      <td>3</td>\n",
       "      <td>2.659744</td>\n",
       "      <td>231.909202</td>\n",
       "      <td>111.903150</td>\n",
       "    </tr>\n",
       "    <tr>\n",
       "      <th>...</th>\n",
       "      <td>...</td>\n",
       "      <td>...</td>\n",
       "      <td>...</td>\n",
       "      <td>...</td>\n",
       "      <td>...</td>\n",
       "      <td>...</td>\n",
       "      <td>...</td>\n",
       "      <td>...</td>\n",
       "      <td>...</td>\n",
       "      <td>...</td>\n",
       "      <td>...</td>\n",
       "    </tr>\n",
       "    <tr>\n",
       "      <th>1495</th>\n",
       "      <td>2496</td>\n",
       "      <td>M4</td>\n",
       "      <td>235</td>\n",
       "      <td>Morning</td>\n",
       "      <td>67.951778</td>\n",
       "      <td>35.037903</td>\n",
       "      <td>41.237231</td>\n",
       "      <td>4</td>\n",
       "      <td>4.388616</td>\n",
       "      <td>283.389897</td>\n",
       "      <td>80.148701</td>\n",
       "    </tr>\n",
       "    <tr>\n",
       "      <th>1496</th>\n",
       "      <td>2497</td>\n",
       "      <td>M5</td>\n",
       "      <td>234</td>\n",
       "      <td>Evening</td>\n",
       "      <td>99.849700</td>\n",
       "      <td>22.947864</td>\n",
       "      <td>60.504644</td>\n",
       "      <td>4</td>\n",
       "      <td>4.082726</td>\n",
       "      <td>188.113831</td>\n",
       "      <td>81.699473</td>\n",
       "    </tr>\n",
       "    <tr>\n",
       "      <th>1497</th>\n",
       "      <td>2498</td>\n",
       "      <td>M5</td>\n",
       "      <td>241</td>\n",
       "      <td>Night</td>\n",
       "      <td>87.526157</td>\n",
       "      <td>35.429107</td>\n",
       "      <td>29.584325</td>\n",
       "      <td>1</td>\n",
       "      <td>6.181315</td>\n",
       "      <td>NaN</td>\n",
       "      <td>100.549627</td>\n",
       "    </tr>\n",
       "    <tr>\n",
       "      <th>1498</th>\n",
       "      <td>2499</td>\n",
       "      <td>M4</td>\n",
       "      <td>247</td>\n",
       "      <td>Night</td>\n",
       "      <td>63.498279</td>\n",
       "      <td>29.228132</td>\n",
       "      <td>53.134248</td>\n",
       "      <td>1</td>\n",
       "      <td>4.030207</td>\n",
       "      <td>113.163659</td>\n",
       "      <td>94.248262</td>\n",
       "    </tr>\n",
       "    <tr>\n",
       "      <th>1499</th>\n",
       "      <td>2500</td>\n",
       "      <td>M4</td>\n",
       "      <td>218</td>\n",
       "      <td>Evening</td>\n",
       "      <td>78.466362</td>\n",
       "      <td>NaN</td>\n",
       "      <td>64.755950</td>\n",
       "      <td>1</td>\n",
       "      <td>6.270157</td>\n",
       "      <td>216.923655</td>\n",
       "      <td>96.475206</td>\n",
       "    </tr>\n",
       "  </tbody>\n",
       "</table>\n",
       "<p>1500 rows × 11 columns</p>\n",
       "</div>"
      ],
      "text/plain": [
       "      Product_ID Machine_ID  Operator_ID    Shift  Temperature   Pressure  \\\n",
       "0           1001         M4          232  Evening    58.846335  37.290126   \n",
       "1           1002         M5          236    Night    54.644692  22.519004   \n",
       "2           1003         M3          204  Morning          NaN        NaN   \n",
       "3           1004         M5          227    Night    76.842479  30.620364   \n",
       "4           1005         M5          217  Evening    70.209489  23.627536   \n",
       "...          ...        ...          ...      ...          ...        ...   \n",
       "1495        2496         M4          235  Morning    67.951778  35.037903   \n",
       "1496        2497         M5          234  Evening    99.849700  22.947864   \n",
       "1497        2498         M5          241    Night    87.526157  35.429107   \n",
       "1498        2499         M4          247    Night    63.498279  29.228132   \n",
       "1499        2500         M4          218  Evening    78.466362        NaN   \n",
       "\n",
       "      Production_Time  Defects  Material_Thickness  Energy_Consumption  \\\n",
       "0           21.249530        2            5.248237          200.949954   \n",
       "1           41.773006        0            6.449209                 NaN   \n",
       "2           44.853269        1            3.307488          230.920361   \n",
       "3           64.047932        0            6.908725          163.627304   \n",
       "4           56.486806        3            2.659744          231.909202   \n",
       "...               ...      ...                 ...                 ...   \n",
       "1495        41.237231        4            4.388616          283.389897   \n",
       "1496        60.504644        4            4.082726          188.113831   \n",
       "1497        29.584325        1            6.181315                 NaN   \n",
       "1498        53.134248        1            4.030207          113.163659   \n",
       "1499        64.755950        1            6.270157          216.923655   \n",
       "\n",
       "      Output_Quality_Score  \n",
       "0                86.488866  \n",
       "1                69.848851  \n",
       "2                89.532740  \n",
       "3                80.018081  \n",
       "4               111.903150  \n",
       "...                    ...  \n",
       "1495             80.148701  \n",
       "1496             81.699473  \n",
       "1497            100.549627  \n",
       "1498             94.248262  \n",
       "1499             96.475206  \n",
       "\n",
       "[1500 rows x 11 columns]"
      ]
     },
     "execution_count": 3,
     "metadata": {},
     "output_type": "execute_result"
    }
   ],
   "source": [
    "df = pd.read_csv(r\"C:\\Users\\Vadty\\OneDrive\\Desktop\\Desktop\\Unicus\\Python datasets\\manufacturing_quality_data.csv\")\n",
    "df"
   ]
  },
  {
   "cell_type": "markdown",
   "id": "2ac481e6",
   "metadata": {},
   "source": [
    "- Show shape/dtypes/head/tail/describe"
   ]
  },
  {
   "cell_type": "code",
   "execution_count": 88,
   "id": "c27cfe67",
   "metadata": {},
   "outputs": [
    {
     "data": {
      "text/plain": [
       "(1500, 11)"
      ]
     },
     "execution_count": 88,
     "metadata": {},
     "output_type": "execute_result"
    }
   ],
   "source": [
    "df.shape"
   ]
  },
  {
   "cell_type": "code",
   "execution_count": 7,
   "id": "8d95fed9",
   "metadata": {},
   "outputs": [
    {
     "data": {
      "text/plain": [
       "Product_ID                int64\n",
       "Machine_ID               object\n",
       "Operator_ID               int64\n",
       "Shift                    object\n",
       "Temperature             float64\n",
       "Pressure                float64\n",
       "Production_Time         float64\n",
       "Defects                   int64\n",
       "Material_Thickness      float64\n",
       "Energy_Consumption      float64\n",
       "Output_Quality_Score    float64\n",
       "dtype: object"
      ]
     },
     "execution_count": 7,
     "metadata": {},
     "output_type": "execute_result"
    }
   ],
   "source": [
    "df.dtypes"
   ]
  },
  {
   "cell_type": "code",
   "execution_count": 8,
   "id": "786ea7f8",
   "metadata": {},
   "outputs": [
    {
     "data": {
      "text/html": [
       "<div>\n",
       "<style scoped>\n",
       "    .dataframe tbody tr th:only-of-type {\n",
       "        vertical-align: middle;\n",
       "    }\n",
       "\n",
       "    .dataframe tbody tr th {\n",
       "        vertical-align: top;\n",
       "    }\n",
       "\n",
       "    .dataframe thead th {\n",
       "        text-align: right;\n",
       "    }\n",
       "</style>\n",
       "<table border=\"1\" class=\"dataframe\">\n",
       "  <thead>\n",
       "    <tr style=\"text-align: right;\">\n",
       "      <th></th>\n",
       "      <th>Product_ID</th>\n",
       "      <th>Machine_ID</th>\n",
       "      <th>Operator_ID</th>\n",
       "      <th>Shift</th>\n",
       "      <th>Temperature</th>\n",
       "      <th>Pressure</th>\n",
       "      <th>Production_Time</th>\n",
       "      <th>Defects</th>\n",
       "      <th>Material_Thickness</th>\n",
       "      <th>Energy_Consumption</th>\n",
       "      <th>Output_Quality_Score</th>\n",
       "    </tr>\n",
       "  </thead>\n",
       "  <tbody>\n",
       "    <tr>\n",
       "      <th>0</th>\n",
       "      <td>1001</td>\n",
       "      <td>M4</td>\n",
       "      <td>232</td>\n",
       "      <td>Evening</td>\n",
       "      <td>58.846335</td>\n",
       "      <td>37.290126</td>\n",
       "      <td>21.249530</td>\n",
       "      <td>2</td>\n",
       "      <td>5.248237</td>\n",
       "      <td>200.949954</td>\n",
       "      <td>86.488866</td>\n",
       "    </tr>\n",
       "    <tr>\n",
       "      <th>1</th>\n",
       "      <td>1002</td>\n",
       "      <td>M5</td>\n",
       "      <td>236</td>\n",
       "      <td>Night</td>\n",
       "      <td>54.644692</td>\n",
       "      <td>22.519004</td>\n",
       "      <td>41.773006</td>\n",
       "      <td>0</td>\n",
       "      <td>6.449209</td>\n",
       "      <td>NaN</td>\n",
       "      <td>69.848851</td>\n",
       "    </tr>\n",
       "    <tr>\n",
       "      <th>2</th>\n",
       "      <td>1003</td>\n",
       "      <td>M3</td>\n",
       "      <td>204</td>\n",
       "      <td>Morning</td>\n",
       "      <td>NaN</td>\n",
       "      <td>NaN</td>\n",
       "      <td>44.853269</td>\n",
       "      <td>1</td>\n",
       "      <td>3.307488</td>\n",
       "      <td>230.920361</td>\n",
       "      <td>89.532740</td>\n",
       "    </tr>\n",
       "    <tr>\n",
       "      <th>3</th>\n",
       "      <td>1004</td>\n",
       "      <td>M5</td>\n",
       "      <td>227</td>\n",
       "      <td>Night</td>\n",
       "      <td>76.842479</td>\n",
       "      <td>30.620364</td>\n",
       "      <td>64.047932</td>\n",
       "      <td>0</td>\n",
       "      <td>6.908725</td>\n",
       "      <td>163.627304</td>\n",
       "      <td>80.018081</td>\n",
       "    </tr>\n",
       "    <tr>\n",
       "      <th>4</th>\n",
       "      <td>1005</td>\n",
       "      <td>M5</td>\n",
       "      <td>217</td>\n",
       "      <td>Evening</td>\n",
       "      <td>70.209489</td>\n",
       "      <td>23.627536</td>\n",
       "      <td>56.486806</td>\n",
       "      <td>3</td>\n",
       "      <td>2.659744</td>\n",
       "      <td>231.909202</td>\n",
       "      <td>111.903150</td>\n",
       "    </tr>\n",
       "  </tbody>\n",
       "</table>\n",
       "</div>"
      ],
      "text/plain": [
       "   Product_ID Machine_ID  Operator_ID    Shift  Temperature   Pressure  \\\n",
       "0        1001         M4          232  Evening    58.846335  37.290126   \n",
       "1        1002         M5          236    Night    54.644692  22.519004   \n",
       "2        1003         M3          204  Morning          NaN        NaN   \n",
       "3        1004         M5          227    Night    76.842479  30.620364   \n",
       "4        1005         M5          217  Evening    70.209489  23.627536   \n",
       "\n",
       "   Production_Time  Defects  Material_Thickness  Energy_Consumption  \\\n",
       "0        21.249530        2            5.248237          200.949954   \n",
       "1        41.773006        0            6.449209                 NaN   \n",
       "2        44.853269        1            3.307488          230.920361   \n",
       "3        64.047932        0            6.908725          163.627304   \n",
       "4        56.486806        3            2.659744          231.909202   \n",
       "\n",
       "   Output_Quality_Score  \n",
       "0             86.488866  \n",
       "1             69.848851  \n",
       "2             89.532740  \n",
       "3             80.018081  \n",
       "4            111.903150  "
      ]
     },
     "execution_count": 8,
     "metadata": {},
     "output_type": "execute_result"
    }
   ],
   "source": [
    "df.head()"
   ]
  },
  {
   "cell_type": "code",
   "execution_count": 10,
   "id": "474dbc53",
   "metadata": {},
   "outputs": [
    {
     "data": {
      "text/html": [
       "<div>\n",
       "<style scoped>\n",
       "    .dataframe tbody tr th:only-of-type {\n",
       "        vertical-align: middle;\n",
       "    }\n",
       "\n",
       "    .dataframe tbody tr th {\n",
       "        vertical-align: top;\n",
       "    }\n",
       "\n",
       "    .dataframe thead th {\n",
       "        text-align: right;\n",
       "    }\n",
       "</style>\n",
       "<table border=\"1\" class=\"dataframe\">\n",
       "  <thead>\n",
       "    <tr style=\"text-align: right;\">\n",
       "      <th></th>\n",
       "      <th>Product_ID</th>\n",
       "      <th>Machine_ID</th>\n",
       "      <th>Operator_ID</th>\n",
       "      <th>Shift</th>\n",
       "      <th>Temperature</th>\n",
       "      <th>Pressure</th>\n",
       "      <th>Production_Time</th>\n",
       "      <th>Defects</th>\n",
       "      <th>Material_Thickness</th>\n",
       "      <th>Energy_Consumption</th>\n",
       "      <th>Output_Quality_Score</th>\n",
       "    </tr>\n",
       "  </thead>\n",
       "  <tbody>\n",
       "    <tr>\n",
       "      <th>1495</th>\n",
       "      <td>2496</td>\n",
       "      <td>M4</td>\n",
       "      <td>235</td>\n",
       "      <td>Morning</td>\n",
       "      <td>67.951778</td>\n",
       "      <td>35.037903</td>\n",
       "      <td>41.237231</td>\n",
       "      <td>4</td>\n",
       "      <td>4.388616</td>\n",
       "      <td>283.389897</td>\n",
       "      <td>80.148701</td>\n",
       "    </tr>\n",
       "    <tr>\n",
       "      <th>1496</th>\n",
       "      <td>2497</td>\n",
       "      <td>M5</td>\n",
       "      <td>234</td>\n",
       "      <td>Evening</td>\n",
       "      <td>99.849700</td>\n",
       "      <td>22.947864</td>\n",
       "      <td>60.504644</td>\n",
       "      <td>4</td>\n",
       "      <td>4.082726</td>\n",
       "      <td>188.113831</td>\n",
       "      <td>81.699473</td>\n",
       "    </tr>\n",
       "    <tr>\n",
       "      <th>1497</th>\n",
       "      <td>2498</td>\n",
       "      <td>M5</td>\n",
       "      <td>241</td>\n",
       "      <td>Night</td>\n",
       "      <td>87.526157</td>\n",
       "      <td>35.429107</td>\n",
       "      <td>29.584325</td>\n",
       "      <td>1</td>\n",
       "      <td>6.181315</td>\n",
       "      <td>NaN</td>\n",
       "      <td>100.549627</td>\n",
       "    </tr>\n",
       "    <tr>\n",
       "      <th>1498</th>\n",
       "      <td>2499</td>\n",
       "      <td>M4</td>\n",
       "      <td>247</td>\n",
       "      <td>Night</td>\n",
       "      <td>63.498279</td>\n",
       "      <td>29.228132</td>\n",
       "      <td>53.134248</td>\n",
       "      <td>1</td>\n",
       "      <td>4.030207</td>\n",
       "      <td>113.163659</td>\n",
       "      <td>94.248262</td>\n",
       "    </tr>\n",
       "    <tr>\n",
       "      <th>1499</th>\n",
       "      <td>2500</td>\n",
       "      <td>M4</td>\n",
       "      <td>218</td>\n",
       "      <td>Evening</td>\n",
       "      <td>78.466362</td>\n",
       "      <td>NaN</td>\n",
       "      <td>64.755950</td>\n",
       "      <td>1</td>\n",
       "      <td>6.270157</td>\n",
       "      <td>216.923655</td>\n",
       "      <td>96.475206</td>\n",
       "    </tr>\n",
       "  </tbody>\n",
       "</table>\n",
       "</div>"
      ],
      "text/plain": [
       "      Product_ID Machine_ID  Operator_ID    Shift  Temperature   Pressure  \\\n",
       "1495        2496         M4          235  Morning    67.951778  35.037903   \n",
       "1496        2497         M5          234  Evening    99.849700  22.947864   \n",
       "1497        2498         M5          241    Night    87.526157  35.429107   \n",
       "1498        2499         M4          247    Night    63.498279  29.228132   \n",
       "1499        2500         M4          218  Evening    78.466362        NaN   \n",
       "\n",
       "      Production_Time  Defects  Material_Thickness  Energy_Consumption  \\\n",
       "1495        41.237231        4            4.388616          283.389897   \n",
       "1496        60.504644        4            4.082726          188.113831   \n",
       "1497        29.584325        1            6.181315                 NaN   \n",
       "1498        53.134248        1            4.030207          113.163659   \n",
       "1499        64.755950        1            6.270157          216.923655   \n",
       "\n",
       "      Output_Quality_Score  \n",
       "1495             80.148701  \n",
       "1496             81.699473  \n",
       "1497            100.549627  \n",
       "1498             94.248262  \n",
       "1499             96.475206  "
      ]
     },
     "execution_count": 10,
     "metadata": {},
     "output_type": "execute_result"
    }
   ],
   "source": [
    "df.tail()"
   ]
  },
  {
   "cell_type": "code",
   "execution_count": 11,
   "id": "598c2242",
   "metadata": {},
   "outputs": [
    {
     "data": {
      "text/html": [
       "<div>\n",
       "<style scoped>\n",
       "    .dataframe tbody tr th:only-of-type {\n",
       "        vertical-align: middle;\n",
       "    }\n",
       "\n",
       "    .dataframe tbody tr th {\n",
       "        vertical-align: top;\n",
       "    }\n",
       "\n",
       "    .dataframe thead th {\n",
       "        text-align: right;\n",
       "    }\n",
       "</style>\n",
       "<table border=\"1\" class=\"dataframe\">\n",
       "  <thead>\n",
       "    <tr style=\"text-align: right;\">\n",
       "      <th></th>\n",
       "      <th>Product_ID</th>\n",
       "      <th>Operator_ID</th>\n",
       "      <th>Temperature</th>\n",
       "      <th>Pressure</th>\n",
       "      <th>Production_Time</th>\n",
       "      <th>Defects</th>\n",
       "      <th>Material_Thickness</th>\n",
       "      <th>Energy_Consumption</th>\n",
       "      <th>Output_Quality_Score</th>\n",
       "    </tr>\n",
       "  </thead>\n",
       "  <tbody>\n",
       "    <tr>\n",
       "      <th>count</th>\n",
       "      <td>1500.000000</td>\n",
       "      <td>1500.000000</td>\n",
       "      <td>1425.000000</td>\n",
       "      <td>1426.000000</td>\n",
       "      <td>1425.000000</td>\n",
       "      <td>1500.000000</td>\n",
       "      <td>1425.000000</td>\n",
       "      <td>1425.000000</td>\n",
       "      <td>1500.000000</td>\n",
       "    </tr>\n",
       "    <tr>\n",
       "      <th>mean</th>\n",
       "      <td>1750.500000</td>\n",
       "      <td>224.690667</td>\n",
       "      <td>75.540462</td>\n",
       "      <td>30.193878</td>\n",
       "      <td>45.308054</td>\n",
       "      <td>2.000667</td>\n",
       "      <td>4.954840</td>\n",
       "      <td>201.784970</td>\n",
       "      <td>85.381034</td>\n",
       "    </tr>\n",
       "    <tr>\n",
       "      <th>std</th>\n",
       "      <td>433.157015</td>\n",
       "      <td>14.002489</td>\n",
       "      <td>11.350135</td>\n",
       "      <td>5.995968</td>\n",
       "      <td>14.374331</td>\n",
       "      <td>1.434121</td>\n",
       "      <td>1.510146</td>\n",
       "      <td>48.989562</td>\n",
       "      <td>10.230825</td>\n",
       "    </tr>\n",
       "    <tr>\n",
       "      <th>min</th>\n",
       "      <td>1001.000000</td>\n",
       "      <td>201.000000</td>\n",
       "      <td>41.752443</td>\n",
       "      <td>12.089687</td>\n",
       "      <td>2.533707</td>\n",
       "      <td>0.000000</td>\n",
       "      <td>-0.063369</td>\n",
       "      <td>58.991559</td>\n",
       "      <td>51.704962</td>\n",
       "    </tr>\n",
       "    <tr>\n",
       "      <th>25%</th>\n",
       "      <td>1375.750000</td>\n",
       "      <td>213.000000</td>\n",
       "      <td>68.189448</td>\n",
       "      <td>26.619328</td>\n",
       "      <td>36.314355</td>\n",
       "      <td>1.000000</td>\n",
       "      <td>3.992124</td>\n",
       "      <td>168.501498</td>\n",
       "      <td>78.355223</td>\n",
       "    </tr>\n",
       "    <tr>\n",
       "      <th>50%</th>\n",
       "      <td>1750.500000</td>\n",
       "      <td>224.000000</td>\n",
       "      <td>75.090382</td>\n",
       "      <td>29.742676</td>\n",
       "      <td>44.743856</td>\n",
       "      <td>2.000000</td>\n",
       "      <td>4.930255</td>\n",
       "      <td>202.998143</td>\n",
       "      <td>85.333963</td>\n",
       "    </tr>\n",
       "    <tr>\n",
       "      <th>75%</th>\n",
       "      <td>2125.250000</td>\n",
       "      <td>236.250000</td>\n",
       "      <td>82.011863</td>\n",
       "      <td>33.241415</td>\n",
       "      <td>52.992415</td>\n",
       "      <td>3.000000</td>\n",
       "      <td>5.952868</td>\n",
       "      <td>234.124460</td>\n",
       "      <td>92.339312</td>\n",
       "    </tr>\n",
       "    <tr>\n",
       "      <th>max</th>\n",
       "      <td>2500.000000</td>\n",
       "      <td>249.000000</td>\n",
       "      <td>124.051069</td>\n",
       "      <td>59.266315</td>\n",
       "      <td>106.708866</td>\n",
       "      <td>8.000000</td>\n",
       "      <td>10.066652</td>\n",
       "      <td>371.445524</td>\n",
       "      <td>117.857237</td>\n",
       "    </tr>\n",
       "  </tbody>\n",
       "</table>\n",
       "</div>"
      ],
      "text/plain": [
       "        Product_ID  Operator_ID  Temperature     Pressure  Production_Time  \\\n",
       "count  1500.000000  1500.000000  1425.000000  1426.000000      1425.000000   \n",
       "mean   1750.500000   224.690667    75.540462    30.193878        45.308054   \n",
       "std     433.157015    14.002489    11.350135     5.995968        14.374331   \n",
       "min    1001.000000   201.000000    41.752443    12.089687         2.533707   \n",
       "25%    1375.750000   213.000000    68.189448    26.619328        36.314355   \n",
       "50%    1750.500000   224.000000    75.090382    29.742676        44.743856   \n",
       "75%    2125.250000   236.250000    82.011863    33.241415        52.992415   \n",
       "max    2500.000000   249.000000   124.051069    59.266315       106.708866   \n",
       "\n",
       "           Defects  Material_Thickness  Energy_Consumption  \\\n",
       "count  1500.000000         1425.000000         1425.000000   \n",
       "mean      2.000667            4.954840          201.784970   \n",
       "std       1.434121            1.510146           48.989562   \n",
       "min       0.000000           -0.063369           58.991559   \n",
       "25%       1.000000            3.992124          168.501498   \n",
       "50%       2.000000            4.930255          202.998143   \n",
       "75%       3.000000            5.952868          234.124460   \n",
       "max       8.000000           10.066652          371.445524   \n",
       "\n",
       "       Output_Quality_Score  \n",
       "count           1500.000000  \n",
       "mean              85.381034  \n",
       "std               10.230825  \n",
       "min               51.704962  \n",
       "25%               78.355223  \n",
       "50%               85.333963  \n",
       "75%               92.339312  \n",
       "max              117.857237  "
      ]
     },
     "execution_count": 11,
     "metadata": {},
     "output_type": "execute_result"
    }
   ],
   "source": [
    "df.describe()"
   ]
  },
  {
   "cell_type": "markdown",
   "id": "021052c1",
   "metadata": {},
   "source": [
    "- Check duplicate Product_ID"
   ]
  },
  {
   "cell_type": "code",
   "execution_count": 91,
   "id": "eaa98ac0",
   "metadata": {},
   "outputs": [
    {
     "data": {
      "text/plain": [
       "0"
      ]
     },
     "execution_count": 91,
     "metadata": {},
     "output_type": "execute_result"
    }
   ],
   "source": [
    "df['Product_ID'].duplicated().sum()"
   ]
  },
  {
   "cell_type": "markdown",
   "id": "f91eabda",
   "metadata": {},
   "source": [
    "### Task-2"
   ]
  },
  {
   "cell_type": "markdown",
   "id": "e252aa4e",
   "metadata": {},
   "source": [
    "\n",
    " - Write UDF missing_summary(df) to report n_missing/pct_missing/n_unique"
   ]
  },
  {
   "cell_type": "code",
   "execution_count": 38,
   "id": "32924d85",
   "metadata": {},
   "outputs": [
    {
     "data": {
      "text/html": [
       "<div>\n",
       "<style scoped>\n",
       "    .dataframe tbody tr th:only-of-type {\n",
       "        vertical-align: middle;\n",
       "    }\n",
       "\n",
       "    .dataframe tbody tr th {\n",
       "        vertical-align: top;\n",
       "    }\n",
       "\n",
       "    .dataframe thead th {\n",
       "        text-align: right;\n",
       "    }\n",
       "</style>\n",
       "<table border=\"1\" class=\"dataframe\">\n",
       "  <thead>\n",
       "    <tr style=\"text-align: right;\">\n",
       "      <th></th>\n",
       "      <th>n_missing</th>\n",
       "      <th>pct_missing</th>\n",
       "      <th>n_unique</th>\n",
       "    </tr>\n",
       "  </thead>\n",
       "  <tbody>\n",
       "    <tr>\n",
       "      <th>Product_ID</th>\n",
       "      <td>0</td>\n",
       "      <td>0.000000</td>\n",
       "      <td>1500</td>\n",
       "    </tr>\n",
       "    <tr>\n",
       "      <th>Machine_ID</th>\n",
       "      <td>0</td>\n",
       "      <td>0.000000</td>\n",
       "      <td>5</td>\n",
       "    </tr>\n",
       "    <tr>\n",
       "      <th>Operator_ID</th>\n",
       "      <td>0</td>\n",
       "      <td>0.000000</td>\n",
       "      <td>49</td>\n",
       "    </tr>\n",
       "    <tr>\n",
       "      <th>Shift</th>\n",
       "      <td>0</td>\n",
       "      <td>0.000000</td>\n",
       "      <td>3</td>\n",
       "    </tr>\n",
       "    <tr>\n",
       "      <th>Temperature</th>\n",
       "      <td>75</td>\n",
       "      <td>5.000000</td>\n",
       "      <td>1406</td>\n",
       "    </tr>\n",
       "    <tr>\n",
       "      <th>Pressure</th>\n",
       "      <td>74</td>\n",
       "      <td>4.933333</td>\n",
       "      <td>1407</td>\n",
       "    </tr>\n",
       "    <tr>\n",
       "      <th>Production_Time</th>\n",
       "      <td>75</td>\n",
       "      <td>5.000000</td>\n",
       "      <td>1406</td>\n",
       "    </tr>\n",
       "    <tr>\n",
       "      <th>Defects</th>\n",
       "      <td>0</td>\n",
       "      <td>0.000000</td>\n",
       "      <td>9</td>\n",
       "    </tr>\n",
       "    <tr>\n",
       "      <th>Material_Thickness</th>\n",
       "      <td>75</td>\n",
       "      <td>5.000000</td>\n",
       "      <td>1425</td>\n",
       "    </tr>\n",
       "    <tr>\n",
       "      <th>Energy_Consumption</th>\n",
       "      <td>75</td>\n",
       "      <td>5.000000</td>\n",
       "      <td>1425</td>\n",
       "    </tr>\n",
       "    <tr>\n",
       "      <th>Output_Quality_Score</th>\n",
       "      <td>0</td>\n",
       "      <td>0.000000</td>\n",
       "      <td>1500</td>\n",
       "    </tr>\n",
       "  </tbody>\n",
       "</table>\n",
       "</div>"
      ],
      "text/plain": [
       "                      n_missing  pct_missing  n_unique\n",
       "Product_ID                    0     0.000000      1500\n",
       "Machine_ID                    0     0.000000         5\n",
       "Operator_ID                   0     0.000000        49\n",
       "Shift                         0     0.000000         3\n",
       "Temperature                  75     5.000000      1406\n",
       "Pressure                     74     4.933333      1407\n",
       "Production_Time              75     5.000000      1406\n",
       "Defects                       0     0.000000         9\n",
       "Material_Thickness           75     5.000000      1425\n",
       "Energy_Consumption           75     5.000000      1425\n",
       "Output_Quality_Score          0     0.000000      1500"
      ]
     },
     "execution_count": 38,
     "metadata": {},
     "output_type": "execute_result"
    }
   ],
   "source": [
    "def missing_summary(df):\n",
    "    n_missing=df.isnull().sum()\n",
    "    pct_missing=(df.isnull().sum()/len(df))*100\n",
    "    n_unique=df.nunique()\n",
    "    summary_df = pd.DataFrame({\n",
    "        'n_missing': n_missing,\n",
    "        'pct_missing': pct_missing,\n",
    "        'n_unique': n_unique\n",
    "    })\n",
    "    return  summary_df\n",
    "missing_summary(df)"
   ]
  },
  {
   "cell_type": "markdown",
   "id": "d0b2c1f2",
   "metadata": {},
   "source": [
    "- Rank by pct_missing"
   ]
  },
  {
   "cell_type": "code",
   "execution_count": 89,
   "id": "d296548f",
   "metadata": {},
   "outputs": [
    {
     "data": {
      "text/plain": [
       "Product_ID              0.000000\n",
       "Machine_ID              0.000000\n",
       "Operator_ID             0.000000\n",
       "Shift                   0.000000\n",
       "Defects                 0.000000\n",
       "Output_Quality_Score    0.000000\n",
       "Pressure                4.933333\n",
       "Temperature             5.000000\n",
       "Production_Time         5.000000\n",
       "Material_Thickness      5.000000\n",
       "Energy_Consumption      5.000000\n",
       "dtype: float64"
      ]
     },
     "execution_count": 89,
     "metadata": {},
     "output_type": "execute_result"
    }
   ],
   "source": [
    "rank = (df.isnull().sum()/len(df))*100\n",
    "rank.sort_values(ascending=True)"
   ]
  },
  {
   "cell_type": "markdown",
   "id": "4d904ba1",
   "metadata": {},
   "source": [
    "### Task-3"
   ]
  },
  {
   "cell_type": "markdown",
   "id": "343d441e",
   "metadata": {},
   "source": [
    "- Outlier Detection UDFs\n",
    "- UDFs: iqr_outlier_mask, zscore_outlier_mask\n",
    "- Count % outliers per numeric column"
   ]
  },
  {
   "cell_type": "code",
   "execution_count": 75,
   "id": "6b83da40",
   "metadata": {},
   "outputs": [
    {
     "data": {
      "text/plain": [
       "'If values is less than 57.379088518305515 and values are greater than 113.31544603019378 considered as Outliers'"
      ]
     },
     "execution_count": 75,
     "metadata": {},
     "output_type": "execute_result"
    }
   ],
   "source": [
    "def iqr_outlier_mask(x):\n",
    "    q1 = np.quantile(x,0.25)\n",
    "    q3 = np.quantile(x,0.75)\n",
    "    iqr = q3-q1\n",
    "    lower_b = q1-1.5*iqr\n",
    "    upper_b = q3+1.5*iqr\n",
    "    return  f'If values is less than {lower_b} and values are greater than {upper_b} considered as Outliers'\n",
    "iqr_outlier_mask(df['Output_Quality_Score'])"
   ]
  },
  {
   "cell_type": "code",
   "execution_count": null,
   "id": "1c900ed6",
   "metadata": {},
   "outputs": [],
   "source": [
    "iqr_outlier_mask(df[''])"
   ]
  },
  {
   "cell_type": "code",
   "execution_count": 69,
   "id": "a51b3864",
   "metadata": {},
   "outputs": [
    {
     "name": "stdout",
     "output_type": "stream",
     "text": [
      "101     7\n",
      "539     7\n",
      "600     8\n",
      "1023    7\n",
      "1038    8\n",
      "1300    7\n",
      "1360    7\n",
      "1415    7\n",
      "Name: Defects, dtype: int64\n"
     ]
    }
   ],
   "source": [
    "def iqr_outlier_mask(x):\n",
    "    q1 = np.quantile(x,0.25)\n",
    "    q3 = np.quantile(x,0.75)\n",
    "    iqr = q3-q1\n",
    "    lb = q1-1.5*iqr\n",
    "    ub = q3+1.5*iqr\n",
    "    \n",
    "    is_outlier = (x < lb) | (x > ub)\n",
    "    return is_outlier\n",
    "outliers_ = iqr_outlier_mask(df['Defects'])\n",
    "outliers_df = df[outliers_]\n",
    "print(outliers_df['Defects'])"
   ]
  },
  {
   "cell_type": "code",
   "execution_count": 78,
   "id": "0a36e67f",
   "metadata": {},
   "outputs": [
    {
     "data": {
      "text/plain": [
       "8"
      ]
     },
     "execution_count": 78,
     "metadata": {},
     "output_type": "execute_result"
    }
   ],
   "source": [
    "def zscore_outlier_mask(x, th=3):\n",
    "    mean = x.mean()\n",
    "    std = x.std()\n",
    "    z_scores = np.abs((x - mean) / std)\n",
    "    return (z_scores > th).sum()\n",
    "zscore_outlier_mask(df['Defects'])"
   ]
  },
  {
   "cell_type": "markdown",
   "id": "f4d42a96",
   "metadata": {},
   "source": [
    "- Count % outliers per numeric column"
   ]
  },
  {
   "cell_type": "code",
   "execution_count": 87,
   "id": "24f99ac5",
   "metadata": {
    "scrolled": true
   },
   "outputs": [
    {
     "data": {
      "text/plain": [
       "0.5333333333333333"
      ]
     },
     "execution_count": 87,
     "metadata": {},
     "output_type": "execute_result"
    }
   ],
   "source": [
    "def pct_outlier(y):\n",
    "    q1 = np.quantile(y,0.25)\n",
    "    q3 = np.quantile(y,0.75)\n",
    "    iqr = q3-q1\n",
    "    lb = q1-1.5*iqr\n",
    "    ub = q3+1.5*iqr\n",
    "    return ((y < lb) | (y > ub)).sum()/len(y.dropna())*100\n",
    "pct_outlier(df['Defects'])"
   ]
  },
  {
   "cell_type": "markdown",
   "id": "b1ddbf09",
   "metadata": {},
   "source": [
    "### Task-4"
   ]
  },
  {
   "cell_type": "markdown",
   "id": "8df71b3e",
   "metadata": {},
   "source": [
    "- EDA (Univariate & Bivariate)\n",
    "- Distributions + percentiles\n",
    "- Categorical shares for Machine_ID/Shift\n",
    "- Correlations; simple relationships to Quality/Defects"
   ]
  },
  {
   "cell_type": "code",
   "execution_count": 93,
   "id": "78230870",
   "metadata": {},
   "outputs": [
    {
     "ename": "SyntaxError",
     "evalue": "incomplete input (1955956958.py, line 2)",
     "output_type": "error",
     "traceback": [
      "\u001b[1;36m  Cell \u001b[1;32mIn[93], line 2\u001b[1;36m\u001b[0m\n\u001b[1;33m    \u001b[0m\n\u001b[1;37m    ^\u001b[0m\n\u001b[1;31mSyntaxError\u001b[0m\u001b[1;31m:\u001b[0m incomplete input\n"
     ]
    }
   ],
   "source": [
    "def univariate_eda(z):\n",
    "    "
   ]
  },
  {
   "cell_type": "code",
   "execution_count": 99,
   "id": "85d39790",
   "metadata": {},
   "outputs": [],
   "source": [
    "numeric_df = df.select_dtypes(include=np.number)\n",
    "category_df = df.select_dtypes(exclude=np.number)"
   ]
  },
  {
   "cell_type": "code",
   "execution_count": 102,
   "id": "e3008719",
   "metadata": {},
   "outputs": [
    {
     "data": {
      "text/plain": [
       "Index(['Product_ID', 'Operator_ID', 'Temperature', 'Pressure',\n",
       "       'Production_Time', 'Defects', 'Material_Thickness',\n",
       "       'Energy_Consumption', 'Output_Quality_Score'],\n",
       "      dtype='object')"
      ]
     },
     "execution_count": 102,
     "metadata": {},
     "output_type": "execute_result"
    }
   ],
   "source": [
    "numeric_df.keys()"
   ]
  },
  {
   "cell_type": "code",
   "execution_count": 103,
   "id": "0d67f6f0",
   "metadata": {},
   "outputs": [
    {
     "data": {
      "text/plain": [
       "Index(['Machine_ID', 'Shift'], dtype='object')"
      ]
     },
     "execution_count": 103,
     "metadata": {},
     "output_type": "execute_result"
    }
   ],
   "source": [
    "category_df.keys()"
   ]
  },
  {
   "cell_type": "code",
   "execution_count": 108,
   "id": "0da49fdc",
   "metadata": {},
   "outputs": [
    {
     "data": {
      "image/png": "[encoded data removed]",
      "text/plain": [
       "<Figure size 640x480 with 1 Axes>"
      ]
     },
     "metadata": {},
     "output_type": "display_data"
    }
   ],
   "source": [
    "plt.hist(numeric_df['Output_Quality_Score'],)\n",
    "plt.show()"
   ]
  },
  {
   "cell_type": "markdown",
   "id": "e2bf2c6e",
   "metadata": {},
   "source": [
    "- Majority of the score falls between 80 - 100. and peak at 85-90.\n",
    "- Graphs looks like bell-shaped which defines a normal distribution.\n",
    "- Peak suggests the average score of the Output_Quality_Score."
   ]
  },
  {
   "cell_type": "code",
   "execution_count": 117,
   "id": "0e6de54a",
   "metadata": {},
   "outputs": [
    {
     "data": {
      "image/png": "[encoded data removed]",
      "text/plain": [
       "<Figure size 640x480 with 1 Axes>"
      ]
     },
     "metadata": {},
     "output_type": "display_data"
    }
   ],
   "source": [
    "def distribution(z):\n",
    "    plt.hist(z,)\n",
    "    plt.title(f'Distribution of this Column')\n",
    "    plt.xlabel('Material Thickness')\n",
    "    plt.ylabel('Frequency of data points')\n",
    "    plt.show()\n",
    "distribution(numeric_df['Material_Thickness'])"
   ]
  },
  {
   "cell_type": "code",
   "execution_count": 127,
   "id": "2d20919d",
   "metadata": {},
   "outputs": [
    {
     "data": {
      "text/html": [
       "<div>\n",
       "<style scoped>\n",
       "    .dataframe tbody tr th:only-of-type {\n",
       "        vertical-align: middle;\n",
       "    }\n",
       "\n",
       "    .dataframe tbody tr th {\n",
       "        vertical-align: top;\n",
       "    }\n",
       "\n",
       "    .dataframe thead th {\n",
       "        text-align: right;\n",
       "    }\n",
       "</style>\n",
       "<table border=\"1\" class=\"dataframe\">\n",
       "  <thead>\n",
       "    <tr style=\"text-align: right;\">\n",
       "      <th></th>\n",
       "      <th>First Quartile-25%</th>\n",
       "      <th>Second Quartile - 50%</th>\n",
       "      <th>Third Quartile - 75%</th>\n",
       "    </tr>\n",
       "  </thead>\n",
       "  <tbody>\n",
       "    <tr>\n",
       "      <th>Percentiles</th>\n",
       "      <td>78.355223</td>\n",
       "      <td>85.333963</td>\n",
       "      <td>92.339312</td>\n",
       "    </tr>\n",
       "  </tbody>\n",
       "</table>\n",
       "</div>"
      ],
      "text/plain": [
       "             First Quartile-25%  Second Quartile - 50%  Third Quartile - 75%\n",
       "Percentiles           78.355223              85.333963             92.339312"
      ]
     },
     "execution_count": 127,
     "metadata": {},
     "output_type": "execute_result"
    }
   ],
   "source": [
    "def percentiles(p):\n",
    "    sum_pct = pd.DataFrame({\n",
    "    'First Quartile-25%' : [np.quantile(p,0.25)],\n",
    "    'Second Quartile - 50%' : [np.quantile(p,0.5)],\n",
    "    'Third Quartile - 75%' : [np.quantile(p,0.75)],\n",
    "    \n",
    "    },index=['Percentiles'])\n",
    "    return sum_pct\n",
    "percentiles(df['Output_Quality_Score'])"
   ]
  },
  {
   "cell_type": "markdown",
   "id": "a7be8c55",
   "metadata": {},
   "source": [
    "- 25% values of 'Output_Quality_Score' data is less than or equal to 78.36.\n",
    "- 50% values which is median of 'Output_Quality_Score' devides exactly half median is 85.33.\n",
    "- It represents the value below which 75% of the data points fall.Q3 is approximately 92.34."
   ]
  },
  {
   "cell_type": "markdown",
   "id": "974afa8e",
   "metadata": {},
   "source": [
    "- Categorical shares for Machine_ID/Shiftm"
   ]
  },
  {
   "cell_type": "code",
   "execution_count": 128,
   "id": "778f9e1b",
   "metadata": {},
   "outputs": [
    {
     "data": {
      "text/plain": [
       "Index(['Machine_ID', 'Shift'], dtype='object')"
      ]
     },
     "execution_count": 128,
     "metadata": {},
     "output_type": "execute_result"
    }
   ],
   "source": [
    "category_df.keys()"
   ]
  },
  {
   "cell_type": "code",
   "execution_count": 140,
   "id": "baf2bde5",
   "metadata": {},
   "outputs": [
    {
     "data": {
      "image/png": "[encoded data removed]",
      "text/plain": [
       "<Figure size 640x480 with 1 Axes>"
      ]
     },
     "metadata": {},
     "output_type": "display_data"
    }
   ],
   "source": [
    "machine_counts = category_df['Machine_ID'].value_counts()\n",
    "plt.pie(machine_counts,labels=machine_counts.index, autopct='%1.1f%%', startangle=90)\n",
    "plt.show()"
   ]
  },
  {
   "cell_type": "code",
   "execution_count": 141,
   "id": "431ea8f0",
   "metadata": {},
   "outputs": [
    {
     "data": {
      "image/png": "[encoded data removed]",
      "text/plain": [
       "<Figure size 640x480 with 1 Axes>"
      ]
     },
     "metadata": {},
     "output_type": "display_data"
    }
   ],
   "source": [
    "machine_counts = category_df['Shift'].value_counts()\n",
    "plt.pie(machine_counts,labels=machine_counts.index, autopct='%1.1f%%', startangle=90)\n",
    "plt.show()"
   ]
  },
  {
   "cell_type": "markdown",
   "id": "9f8d7569",
   "metadata": {},
   "source": [
    "- Correlations; simple relationships to Quality/Defects"
   ]
  },
  {
   "cell_type": "code",
   "execution_count": 145,
   "id": "bcbd85d3",
   "metadata": {},
   "outputs": [
    {
     "name": "stderr",
     "output_type": "stream",
     "text": [
      "C:\\Users\\Vadty\\AppData\\Local\\Temp\\ipykernel_32136\\3035769115.py:1: FutureWarning: The default value of numeric_only in DataFrame.corr is deprecated. In a future version, it will default to False. Select only valid columns or specify the value of numeric_only to silence this warning.\n",
      "  correlation = df.corr()\n"
     ]
    },
    {
     "data": {
      "text/html": [
       "<div>\n",
       "<style scoped>\n",
       "    .dataframe tbody tr th:only-of-type {\n",
       "        vertical-align: middle;\n",
       "    }\n",
       "\n",
       "    .dataframe tbody tr th {\n",
       "        vertical-align: top;\n",
       "    }\n",
       "\n",
       "    .dataframe thead th {\n",
       "        text-align: right;\n",
       "    }\n",
       "</style>\n",
       "<table border=\"1\" class=\"dataframe\">\n",
       "  <thead>\n",
       "    <tr style=\"text-align: right;\">\n",
       "      <th></th>\n",
       "      <th>Product_ID</th>\n",
       "      <th>Operator_ID</th>\n",
       "      <th>Temperature</th>\n",
       "      <th>Pressure</th>\n",
       "      <th>Production_Time</th>\n",
       "      <th>Defects</th>\n",
       "      <th>Material_Thickness</th>\n",
       "      <th>Energy_Consumption</th>\n",
       "      <th>Output_Quality_Score</th>\n",
       "    </tr>\n",
       "  </thead>\n",
       "  <tbody>\n",
       "    <tr>\n",
       "      <th>Product_ID</th>\n",
       "      <td>1.000000</td>\n",
       "      <td>0.020727</td>\n",
       "      <td>0.011199</td>\n",
       "      <td>-0.025019</td>\n",
       "      <td>-0.017266</td>\n",
       "      <td>-0.029082</td>\n",
       "      <td>0.026201</td>\n",
       "      <td>0.000565</td>\n",
       "      <td>0.004175</td>\n",
       "    </tr>\n",
       "    <tr>\n",
       "      <th>Operator_ID</th>\n",
       "      <td>0.020727</td>\n",
       "      <td>1.000000</td>\n",
       "      <td>-0.019658</td>\n",
       "      <td>-0.012510</td>\n",
       "      <td>-0.014885</td>\n",
       "      <td>0.029012</td>\n",
       "      <td>0.028953</td>\n",
       "      <td>-0.037831</td>\n",
       "      <td>-0.014595</td>\n",
       "    </tr>\n",
       "    <tr>\n",
       "      <th>Temperature</th>\n",
       "      <td>0.011199</td>\n",
       "      <td>-0.019658</td>\n",
       "      <td>1.000000</td>\n",
       "      <td>0.311349</td>\n",
       "      <td>0.273085</td>\n",
       "      <td>0.006524</td>\n",
       "      <td>0.004296</td>\n",
       "      <td>0.020466</td>\n",
       "      <td>0.042612</td>\n",
       "    </tr>\n",
       "    <tr>\n",
       "      <th>Pressure</th>\n",
       "      <td>-0.025019</td>\n",
       "      <td>-0.012510</td>\n",
       "      <td>0.311349</td>\n",
       "      <td>1.000000</td>\n",
       "      <td>0.298446</td>\n",
       "      <td>0.001085</td>\n",
       "      <td>-0.021261</td>\n",
       "      <td>-0.011292</td>\n",
       "      <td>-0.013918</td>\n",
       "    </tr>\n",
       "    <tr>\n",
       "      <th>Production_Time</th>\n",
       "      <td>-0.017266</td>\n",
       "      <td>-0.014885</td>\n",
       "      <td>0.273085</td>\n",
       "      <td>0.298446</td>\n",
       "      <td>1.000000</td>\n",
       "      <td>-0.025421</td>\n",
       "      <td>-0.009175</td>\n",
       "      <td>-0.003457</td>\n",
       "      <td>0.010645</td>\n",
       "    </tr>\n",
       "    <tr>\n",
       "      <th>Defects</th>\n",
       "      <td>-0.029082</td>\n",
       "      <td>0.029012</td>\n",
       "      <td>0.006524</td>\n",
       "      <td>0.001085</td>\n",
       "      <td>-0.025421</td>\n",
       "      <td>1.000000</td>\n",
       "      <td>-0.024305</td>\n",
       "      <td>-0.001949</td>\n",
       "      <td>-0.007330</td>\n",
       "    </tr>\n",
       "    <tr>\n",
       "      <th>Material_Thickness</th>\n",
       "      <td>0.026201</td>\n",
       "      <td>0.028953</td>\n",
       "      <td>0.004296</td>\n",
       "      <td>-0.021261</td>\n",
       "      <td>-0.009175</td>\n",
       "      <td>-0.024305</td>\n",
       "      <td>1.000000</td>\n",
       "      <td>0.002614</td>\n",
       "      <td>-0.041843</td>\n",
       "    </tr>\n",
       "    <tr>\n",
       "      <th>Energy_Consumption</th>\n",
       "      <td>0.000565</td>\n",
       "      <td>-0.037831</td>\n",
       "      <td>0.020466</td>\n",
       "      <td>-0.011292</td>\n",
       "      <td>-0.003457</td>\n",
       "      <td>-0.001949</td>\n",
       "      <td>0.002614</td>\n",
       "      <td>1.000000</td>\n",
       "      <td>-0.033169</td>\n",
       "    </tr>\n",
       "    <tr>\n",
       "      <th>Output_Quality_Score</th>\n",
       "      <td>0.004175</td>\n",
       "      <td>-0.014595</td>\n",
       "      <td>0.042612</td>\n",
       "      <td>-0.013918</td>\n",
       "      <td>0.010645</td>\n",
       "      <td>-0.007330</td>\n",
       "      <td>-0.041843</td>\n",
       "      <td>-0.033169</td>\n",
       "      <td>1.000000</td>\n",
       "    </tr>\n",
       "  </tbody>\n",
       "</table>\n",
       "</div>"
      ],
      "text/plain": [
       "                      Product_ID  Operator_ID  Temperature  Pressure  \\\n",
       "Product_ID              1.000000     0.020727     0.011199 -0.025019   \n",
       "Operator_ID             0.020727     1.000000    -0.019658 -0.012510   \n",
       "Temperature             0.011199    -0.019658     1.000000  0.311349   \n",
       "Pressure               -0.025019    -0.012510     0.311349  1.000000   \n",
       "Production_Time        -0.017266    -0.014885     0.273085  0.298446   \n",
       "Defects                -0.029082     0.029012     0.006524  0.001085   \n",
       "Material_Thickness      0.026201     0.028953     0.004296 -0.021261   \n",
       "Energy_Consumption      0.000565    -0.037831     0.020466 -0.011292   \n",
       "Output_Quality_Score    0.004175    -0.014595     0.042612 -0.013918   \n",
       "\n",
       "                      Production_Time   Defects  Material_Thickness  \\\n",
       "Product_ID                  -0.017266 -0.029082            0.026201   \n",
       "Operator_ID                 -0.014885  0.029012            0.028953   \n",
       "Temperature                  0.273085  0.006524            0.004296   \n",
       "Pressure                     0.298446  0.001085           -0.021261   \n",
       "Production_Time              1.000000 -0.025421           -0.009175   \n",
       "Defects                     -0.025421  1.000000           -0.024305   \n",
       "Material_Thickness          -0.009175 -0.024305            1.000000   \n",
       "Energy_Consumption          -0.003457 -0.001949            0.002614   \n",
       "Output_Quality_Score         0.010645 -0.007330           -0.041843   \n",
       "\n",
       "                      Energy_Consumption  Output_Quality_Score  \n",
       "Product_ID                      0.000565              0.004175  \n",
       "Operator_ID                    -0.037831             -0.014595  \n",
       "Temperature                     0.020466              0.042612  \n",
       "Pressure                       -0.011292             -0.013918  \n",
       "Production_Time                -0.003457              0.010645  \n",
       "Defects                        -0.001949             -0.007330  \n",
       "Material_Thickness              0.002614             -0.041843  \n",
       "Energy_Consumption              1.000000             -0.033169  \n",
       "Output_Quality_Score           -0.033169              1.000000  "
      ]
     },
     "execution_count": 145,
     "metadata": {},
     "output_type": "execute_result"
    }
   ],
   "source": [
    "correlation = df.corr()\n",
    "correlation"
   ]
  },
  {
   "cell_type": "markdown",
   "id": "baddf892",
   "metadata": {},
   "source": [
    "-  The strongest positive correlation appears to be between Temperature and Pressure at 0.311349 \n",
    "- which represents temperature increases, pressure tends to increase as well.\n",
    "- The strongest negative correlation is between Output_Quality_Score and Material_Thickness at -0.041843\n",
    "- which represents weak inverse relationship as Material_Thickness increases, Output_Quality_Score slightly decreases."
   ]
  },
  {
   "cell_type": "code",
   "execution_count": 154,
   "id": "cfb012d8",
   "metadata": {},
   "outputs": [
    {
     "data": {
      "image/png": "[encoded data removed]",
      "text/plain": [
       "<Figure size 640x480 with 1 Axes>"
      ]
     },
     "metadata": {},
     "output_type": "display_data"
    },
    {
     "data": {
      "image/png": "[encoded data removed]",
      "text/plain": [
       "<Figure size 640x480 with 1 Axes>"
      ]
     },
     "metadata": {},
     "output_type": "display_data"
    },
    {
     "data": {
      "image/png": "[encoded data removed]",
      "text/plain": [
       "<Figure size 640x480 with 1 Axes>"
      ]
     },
     "metadata": {},
     "output_type": "display_data"
    },
    {
     "data": {
      "image/png": "[encoded data removed]",
      "text/plain": [
       "<Figure size 640x480 with 1 Axes>"
      ]
     },
     "metadata": {},
     "output_type": "display_data"
    }
   ],
   "source": [
    "numerical_vars = ['Temperature', 'Pressure', 'Production_Time', 'Material_Thickness']\n",
    "for i in numerical_vars:\n",
    "    plt.scatter(df[i],df['Defects'])\n",
    "    plt.title(f'Defects vs. {i}')\n",
    "    plt.show()"
   ]
  },
  {
   "cell_type": "markdown",
   "id": "19d8a8a6",
   "metadata": {},
   "source": [
    "### Task-5"
   ]
  },
  {
   "cell_type": "markdown",
   "id": "bf21d6ab",
   "metadata": {},
   "source": [
    "- Imputation Strategy Design (UDFs + Rules)\n",
    "- UDF impute_series\n",
    "- Column-wise rules; apply and verify"
   ]
  },
  {
   "cell_type": "code",
   "execution_count": 180,
   "id": "e9777476",
   "metadata": {},
   "outputs": [],
   "source": [
    "def impute_series(x):\n",
    "    if x.dtype != 'object':        \n",
    "        return x.fillna(x.median())\n",
    "    else:\n",
    "        return x.fillna(x.mode()[0])\n",
    "df['Pressure'] = impute_series(df['Pressure'])"
   ]
  },
  {
   "cell_type": "markdown",
   "id": "7857da81",
   "metadata": {},
   "source": [
    "### Apply and Rules\n",
    "- Here impute_series works on the columns where if is a numeric column then null value rplaces with mean on median depend on constrain.\n",
    "- if it is a category then null values replaces with mode value. becaues category values cannot calculate mean and medain.\n",
    "- They can have most occurances"
   ]
  },
  {
   "cell_type": "markdown",
   "id": "c169f745",
   "metadata": {},
   "source": [
    "### Verify\n",
    "- `df.isnull().sum() is used to verify"
   ]
  },
  {
   "cell_type": "code",
   "execution_count": 177,
   "id": "36e4bbb0",
   "metadata": {},
   "outputs": [],
   "source": [
    "df['Shift'] = impute_series(df['Shift'])"
   ]
  },
  {
   "cell_type": "code",
   "execution_count": 178,
   "id": "4eb03e92",
   "metadata": {},
   "outputs": [],
   "source": [
    "df['Energy_Consumption'] = impute_series(df['Energy_Consumption'])"
   ]
  },
  {
   "cell_type": "code",
   "execution_count": 179,
   "id": "14877898",
   "metadata": {},
   "outputs": [
    {
     "data": {
      "text/plain": [
       "Product_ID               0\n",
       "Machine_ID               0\n",
       "Operator_ID              0\n",
       "Shift                    0\n",
       "Temperature             75\n",
       "Pressure                 0\n",
       "Production_Time         75\n",
       "Defects                  0\n",
       "Material_Thickness      75\n",
       "Energy_Consumption       0\n",
       "Output_Quality_Score     0\n",
       "dtype: int64"
      ]
     },
     "execution_count": 179,
     "metadata": {},
     "output_type": "execute_result"
    }
   ],
   "source": [
    "df.isnull().sum()"
   ]
  },
  {
   "cell_type": "markdown",
   "id": "c52b9719",
   "metadata": {},
   "source": [
    "### Task-6 \n",
    "- UDF treat_outliers\n",
    "- Column-wise rules; compare before/after"
   ]
  },
  {
   "cell_type": "code",
   "execution_count": 182,
   "id": "29b27ee3",
   "metadata": {},
   "outputs": [
    {
     "data": {
      "text/plain": [
       "'If values is less than 57.379088518305515 and values are greater than 113.31544603019378 considered as Outliers'"
      ]
     },
     "execution_count": 182,
     "metadata": {},
     "output_type": "execute_result"
    }
   ],
   "source": [
    "def iqr_outlier_mask(x):\n",
    "    q1 = np.quantile(x,0.25)\n",
    "    q3 = np.quantile(x,0.75)\n",
    "    iqr = q3-q1\n",
    "    lower_b = q1-1.5*iqr\n",
    "    upper_b = q3+1.5*iqr\n",
    "    return  f'If values is less than {lower_b} and values are greater than {upper_b} considered as Outliers'\n",
    "iqr_outlier_mask(df['Output_Quality_Score'])"
   ]
  },
  {
   "cell_type": "markdown",
   "id": "a0362676",
   "metadata": {},
   "source": [
    "### Task-8\n",
    "- Re-run summaries\n",
    "- `Plausibility checks for ranges"
   ]
  },
  {
   "cell_type": "code",
   "execution_count": 185,
   "id": "d1eb519a",
   "metadata": {},
   "outputs": [
    {
     "name": "stdout",
     "output_type": "stream",
     "text": [
      "If values is less than 57.379088518305515 and values are greater than 113.31544603019378 considered as Outliers\n",
      "0.6666666666666667\n",
      "             First Quartile-25%  Second Quartile - 50%  Third Quartile - 75%\n",
      "Percentiles           78.355223              85.333963             92.339312\n",
      "If values is less than 57.379088518305515 and values are greater than 113.31544603019378 considered as Outliers\n",
      "0       200.949954\n",
      "1       202.998143\n",
      "2       230.920361\n",
      "3       163.627304\n",
      "4       231.909202\n",
      "           ...    \n",
      "1495    283.389897\n",
      "1496    188.113831\n",
      "1497    202.998143\n",
      "1498    113.163659\n",
      "1499    216.923655\n",
      "Name: Energy_Consumption, Length: 1500, dtype: float64\n"
     ]
    }
   ],
   "source": [
    "print(iqr_outlier_mask(df['Output_Quality_Score']))\n",
    "print(pct_outlier(df['Output_Quality_Score']))\n",
    "print(percentiles(df['Output_Quality_Score']))\n",
    "print(iqr_outlier_mask(df['Output_Quality_Score']))\n",
    "print(impute_series(df['Energy_Consumption']))"
   ]
  },
  {
   "cell_type": "code",
   "execution_count": null,
   "id": "69fc12fb",
   "metadata": {},
   "outputs": [],
   "source": []
  }
 ],
 "metadata": {
  "kernelspec": {
   "display_name": "Python 3 (ipykernel)",
   "language": "python",
   "name": "python3"
  },
  "language_info": {
   "codemirror_mode": {
    "name": "ipython",
    "version": 3
   },
   "file_extension": ".py",
   "mimetype": "text/x-python",
   "name": "python",
   "nbconvert_exporter": "python",
   "pygments_lexer": "ipython3",
   "version": "3.11.3"
  }
 },
 "nbformat": 4,
 "nbformat_minor": 5
}
